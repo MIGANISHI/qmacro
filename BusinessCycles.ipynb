{
 "cells": [
  {
   "cell_type": "code",
   "execution_count": null,
   "metadata": {},
   "outputs": [],
   "source": [
    "import pandas as pd\n",
    "import pandas_datareader.data as web\n",
    "import matplotlib.pyplot as plt\n",
    "import statsmodels.api as sm\n",
    "import pandas_datareader as pdr\n",
    "import numpy as np\n",
    "\n",
    "# set the start and end dates for the data\n",
    "start_date = '2004-04-01'\n",
    "end_date = '2023-07-01'\n",
    "\n",
    "# download the data from FRED using pandas_datareader\n",
    "japan_gdp = web.DataReader('JPNRGDPEXP', 'fred', start_date, end_date)\n",
    "india_gdp = web.DataReader('NGDPRNSAXDCINQ', 'fred', start_date, end_date)\n",
    "log_japan_gdp = np.log(japan_gdp)\n",
    "log_india_gdp = np.log(india_gdp)\n",
    "\n",
    "# calculate the quarterly percent change in real GDP\n",
    "japan_gdp_pct_change = japan_gdp.pct_change(4)\n",
    "india_gdp_pct_change = india_gdp.pct_change(4)\n",
    "\n",
    "# apply a Hodrick-Prescott filter to the data to extract the cyclical component\n",
    "cycle = sm.tsa.filters.hpfilter(log_japan_gdp)\n",
    "cycle = sm.tsa.filters.hpfilter(log_india_gdp)\n",
    "\n",
    "# Plot the original time series data\n",
    "plt.plot(log_japan_gdp, label=\"Japan GDP (in log)\")\n",
    "plt.plot(log_india_gdp, label=\"India GDP (in log)\")\n",
    "\n",
    "# Add a legend and show the plot\n",
    "plt.legend()\n",
    "plt.show()\n",
    "\n",
    "cycle_mean = cycle.mean()\n",
    "cycle_std = cycle.std()\n",
    "\n",
    "print(\"Cycle mean:\", cycle_mean)\n",
    "print(\"Cycle standard deviation:\", cycle_std)\n"
   ]
  }
 ],
 "metadata": {
  "language_info": {
   "name": "python"
  }
 },
 "nbformat": 4,
 "nbformat_minor": 2
}
